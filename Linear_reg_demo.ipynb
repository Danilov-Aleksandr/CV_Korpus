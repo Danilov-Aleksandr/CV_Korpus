{
  "nbformat": 4,
  "nbformat_minor": 0,
  "metadata": {
    "colab": {
      "name": "Копия блокнота \"LinearRegression_demo.ipynb\"",
      "provenance": [],
      "collapsed_sections": [],
      "include_colab_link": true
    },
    "kernelspec": {
      "name": "python3",
      "display_name": "Python 3"
    }
  },
  "cells": [
    {
      "cell_type": "markdown",
      "metadata": {
        "id": "view-in-github",
        "colab_type": "text"
      },
      "source": [
        "<a href=\"https://colab.research.google.com/github/Danilov-Aleksandr/CV_Korpus/blob/master/Linear_reg_demo.ipynb\" target=\"_parent\"><img src=\"https://colab.research.google.com/assets/colab-badge.svg\" alt=\"Open In Colab\"/></a>"
      ]
    },
    {
      "cell_type": "markdown",
      "metadata": {
        "id": "BvO21pguJvq5",
        "colab_type": "text"
      },
      "source": [
        "# Линейная регрессия с sklearn"
      ]
    },
    {
      "cell_type": "code",
      "metadata": {
        "id": "MocFSqGrCEfI",
        "colab_type": "code",
        "colab": {}
      },
      "source": [
        "# в примере использованы синтетические данные из датасета wave\n",
        "!pip install mglearn # установим библиотеку mglearn\n",
        "import mglearn  \n",
        "\n",
        "# импортируем необходимые модули\n",
        "import numpy as np\n",
        "import pandas as pda\n",
        "\n",
        "# чтобы строить графики прямо в ноутбуке\n",
        "import matplotlib.pyplot as plt  \n",
        "%matplotlib inline\n",
        "\n",
        "# линейные модели\n",
        "from sklearn.linear_model import LinearRegression\n",
        "\n",
        "# раздение выборки на обучающую и тестовую\n",
        "from sklearn.model_selection import train_test_split"
      ],
      "execution_count": null,
      "outputs": []
    },
    {
      "cell_type": "code",
      "metadata": {
        "id": "JV0HVYWgKmoG",
        "colab_type": "code",
        "colab": {
          "base_uri": "https://localhost:8080/",
          "height": 425
        },
        "outputId": "8586365f-0bc7-412c-e81f-7c38ae02c534"
      },
      "source": [
        "# вот так выглядит наш датасет\n",
        "mglearn.datasets.make_wave(n_samples=20)"
      ],
      "execution_count": null,
      "outputs": [
        {
          "output_type": "execute_result",
          "data": {
            "text/plain": [
              "(array([[-0.75275929],\n",
              "        [ 2.70428584],\n",
              "        [ 1.39196365],\n",
              "        [ 0.59195091],\n",
              "        [-2.06388816],\n",
              "        [-2.06403288],\n",
              "        [-2.65149833],\n",
              "        [ 2.19705687],\n",
              "        [ 0.60669007],\n",
              "        [ 1.24843547],\n",
              "        [-2.87649303],\n",
              "        [ 2.81945911],\n",
              "        [ 1.99465584],\n",
              "        [-1.72596534],\n",
              "        [-1.9090502 ],\n",
              "        [-1.89957294],\n",
              "        [-1.17454654],\n",
              "        [ 0.14853859],\n",
              "        [-0.40832989],\n",
              "        [-1.25262516]]),\n",
              " array([-0.94788767,  1.01720489, -0.08596376, -0.06075119, -0.75934374,\n",
              "        -1.60501542, -0.82945092,  0.68336686,  0.35889909,  0.19933869,\n",
              "        -1.5774682 ,  1.11736466,  1.19312971, -1.29962216, -1.74356807,\n",
              "        -0.5073919 , -0.09407231, -0.17468205, -0.29191552, -0.75878799]))"
            ]
          },
          "metadata": {
            "tags": []
          },
          "execution_count": 3
        }
      ]
    },
    {
      "cell_type": "code",
      "metadata": {
        "id": "M6_YkrqEFEaF",
        "colab_type": "code",
        "colab": {
          "base_uri": "https://localhost:8080/",
          "height": 279
        },
        "outputId": "c824bbce-39cc-41c0-fbc3-1d5d13ccb79d"
      },
      "source": [
        "# загрузим данные\n",
        "X, y = mglearn.datasets.make_wave(n_samples=20)\n",
        "\n",
        "# и визуализируем их\n",
        "plt.plot(X, y, 'o')\n",
        "plt.xlabel(\"Признак\")\n",
        "plt.ylabel(\"Целевая переменная\")\n",
        "plt.show()"
      ],
      "execution_count": null,
      "outputs": [
        {
          "output_type": "display_data",
          "data": {
            "image/png": "[encoded data removed]",
            "text/plain": [
              "<Figure size 432x288 with 1 Axes>"
            ]
          },
          "metadata": {
            "tags": [],
            "needs_background": "light"
          }
        }
      ]
    },
    {
      "cell_type": "code",
      "metadata": {
        "id": "3QCxvSrKFBzj",
        "colab_type": "code",
        "colab": {}
      },
      "source": [
        "# датасет нужно разделить на две части, чтобы учить на одной (train), а проверять на другой (test)\n",
        "# разделим на train и test\n",
        "X_train, X_test, y_train, y_test = train_test_split(X, y, random_state=42)\n",
        "\n",
        "# создадим модель\n",
        "lr = LinearRegression()\n",
        "# и обучим ее\n",
        "lr.fit(X_train, y_train)\n",
        "\n",
        "# предскажем значения для тестовой выборки\n",
        "y_pred = lr.predict(X_test)"
      ],
      "execution_count": null,
      "outputs": []
    },
    {
      "cell_type": "code",
      "metadata": {
        "id": "zHu-5l0TK2Te",
        "colab_type": "code",
        "colab": {
          "base_uri": "https://localhost:8080/",
          "height": 51
        },
        "outputId": "6c9c389d-47f2-4ce6-8349-8a602591149c"
      },
      "source": [
        "# чтобы посчитать стандартные метрики - импортируем их\n",
        "from sklearn.metrics import mean_squared_error, mean_absolute_error\n",
        "\n",
        "# Средне-квадратичная ошибка\n",
        "print(\"Mean squared error: {:.2f}\".format(\n",
        "    mean_squared_error(y_test, y_pred)))\n",
        "\n",
        "# Средняя абсолютная ошибка\n",
        "print(\"Mean absolute error: {:.2f}\".format(\n",
        "    mean_absolute_error(y_test, y_pred)))"
      ],
      "execution_count": null,
      "outputs": [
        {
          "output_type": "stream",
          "text": [
            "Mean squared error: 0.11\n",
            "Mean absolute error: 0.26\n"
          ],
          "name": "stdout"
        }
      ]
    },
    {
      "cell_type": "code",
      "metadata": {
        "id": "jEcCWHqIK2JQ",
        "colab_type": "code",
        "colab": {
          "base_uri": "https://localhost:8080/",
          "height": 68
        },
        "outputId": "e83022c4-411c-4ba9-8c29-fafa4d0513f2"
      },
      "source": [
        "# попробуем боевое предсказание\n",
        "x_ = input('Введите Х:')\n",
        "x_ = [[float(x_)]]\n",
        "# print(type(x_), x_)\n",
        "\n",
        "y_ = lr.predict(x_)\n",
        "\n",
        "print(type(y_), y_)\n",
        "\n",
        "print('Предсказанный у = {:0.2f}'.format(y_[0]))"
      ],
      "execution_count": null,
      "outputs": [
        {
          "output_type": "stream",
          "text": [
            "Введите Х:1\n",
            "<class 'numpy.ndarray'> [0.2279722]\n",
            "Предсказанный у = 0.23\n"
          ],
          "name": "stdout"
        }
      ]
    },
    {
      "cell_type": "code",
      "metadata": {
        "id": "ykL1J2kdFBXb",
        "colab_type": "code",
        "colab": {
          "base_uri": "https://localhost:8080/",
          "height": 330
        },
        "outputId": "21b9caa6-b207-4833-ccc5-54e61e46abf7"
      },
      "source": [
        "# посмотрим как выглядит уравнение прямой, которой обучилась модель\n",
        "print('Уравнение прямой:  y = {:.3} + X*{:.4} \\n\\n'.format(lr.intercept_, lr.coef_[0]))\n",
        "X_line = [-3, 3]\n",
        "y_line = X_line * lr.coef_ + lr.intercept_\n",
        "\n",
        "\n",
        "plt.scatter(X_train, y_train,  color='black')  # черным - точки, которые видела модель\n",
        "plt.scatter(X_test, y_test,  color='red')  # красным - тестовая выборка\n",
        "plt.plot(X_line, y_line, color='blue', linewidth=3)  # модель - голубая линия\n",
        "\n",
        "\n",
        "plt.xlabel(\"Признак\")\n",
        "plt.ylabel(\"Целевая переменная\")\n",
        "plt.show()"
      ],
      "execution_count": null,
      "outputs": [
        {
          "output_type": "stream",
          "text": [
            "Уравнение прямой:  y = -0.219 + X*0.4469 \n",
            "\n",
            "\n"
          ],
          "name": "stdout"
        },
        {
          "output_type": "display_data",
          "data": {
            "image/png": "[encoded data removed]",
            "text/plain": [
              "<Figure size 432x288 with 1 Axes>"
            ]
          },
          "metadata": {
            "tags": [],
            "needs_background": "light"
          }
        }
      ]
    },
    {
      "cell_type": "markdown",
      "metadata": {
        "id": "enr8oeQ8MsDs",
        "colab_type": "text"
      },
      "source": [
        "**The End.**"
      ]
    },
    {
      "cell_type": "markdown",
      "metadata": {
        "id": "JMAHaggpJ-dh",
        "colab_type": "text"
      },
      "source": [
        "# Bonus track"
      ]
    },
    {
      "cell_type": "code",
      "metadata": {
        "id": "Ff3YjcfCNj6g",
        "colab_type": "code",
        "colab": {
          "base_uri": "https://localhost:8080/",
          "height": 228
        },
        "outputId": "2d42f80e-a983-45b2-830e-9e58e8a715f8"
      },
      "source": [
        "data = pd.read_csv('data.csv')\n",
        "data.info()"
      ],
      "execution_count": null,
      "outputs": [
        {
          "output_type": "stream",
          "text": [
            "<class 'pandas.core.frame.DataFrame'>\n",
            "RangeIndex: 47 entries, 0 to 46\n",
            "Data columns (total 7 columns):\n",
            "time      47 non-null object\n",
            "age       45 non-null float64\n",
            "sex       47 non-null object\n",
            "foot      46 non-null object\n",
            "head      46 non-null object\n",
            "weight    47 non-null int64\n",
            "growth    46 non-null float64\n",
            "dtypes: float64(2), int64(1), object(4)\n",
            "memory usage: 2.6+ KB\n"
          ],
          "name": "stdout"
        }
      ]
    },
    {
      "cell_type": "code",
      "metadata": {
        "id": "JLLG0Hg67YyF",
        "colab_type": "code",
        "colab": {
          "base_uri": "https://localhost:8080/",
          "height": 228
        },
        "outputId": "10436783-e496-4a5e-8c36-786467fa4e24"
      },
      "source": [
        "data = data.dropna()\n",
        "data['foot'] = data['foot'].replace('38,5', '38.5')\n",
        "data[['foot', 'weight']] = data[['foot', 'weight']].astype('float64')\n",
        "\n",
        "data.info()\n",
        "\n",
        "X = data[['weight']]\n",
        "y = data['growth']"
      ],
      "execution_count": null,
      "outputs": [
        {
          "output_type": "stream",
          "text": [
            "<class 'pandas.core.frame.DataFrame'>\n",
            "Int64Index: 45 entries, 0 to 46\n",
            "Data columns (total 7 columns):\n",
            "time      45 non-null object\n",
            "age       45 non-null float64\n",
            "sex       45 non-null object\n",
            "foot      45 non-null float64\n",
            "head      45 non-null object\n",
            "weight    45 non-null float64\n",
            "growth    45 non-null float64\n",
            "dtypes: float64(4), object(3)\n",
            "memory usage: 2.8+ KB\n"
          ],
          "name": "stdout"
        }
      ]
    }
  ]
}