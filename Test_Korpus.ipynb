{
  "nbformat": 4,
  "nbformat_minor": 0,
  "metadata": {
    "colab": {
      "name": "Test_Korpus.ipynb",
      "provenance": [],
      "collapsed_sections": [],
      "authorship_tag": "ABX9TyO5431jcnL4Bt9DL+UfKZx2",
      "include_colab_link": true
    },
    "kernelspec": {
      "name": "python3",
      "display_name": "Python 3"
    }
  },
  "cells": [
    {
      "cell_type": "markdown",
      "metadata": {
        "id": "view-in-github",
        "colab_type": "text"
      },
      "source": [
        "<a href=\"https://colab.research.google.com/github/Danilov-Aleksandr/CV_Korpus/blob/master/Test_Korpus.ipynb\" target=\"_parent\"><img src=\"https://colab.research.google.com/assets/colab-badge.svg\" alt=\"Open In Colab\"/></a>"
      ]
    },
    {
      "cell_type": "code",
      "metadata": {
        "id": "K1QJhW6ecndS",
        "colab_type": "code",
        "colab": {}
      },
      "source": [
        "import numpy as np\n",
        "import cv2"
      ],
      "execution_count": null,
      "outputs": []
    },
    {
      "cell_type": "code",
      "metadata": {
        "id": "XRYnF7V-nPvy",
        "colab_type": "code",
        "colab": {}
      },
      "source": [
        "for number in range(4):\n",
        "  #Импортируем изображение и ядро свертки\n",
        "  image = cv2.imread(f'image_{number}.jpg')\n",
        "  cv_kernel = cv2.imread(f'cv_kernel_{number}.png')\n",
        "  cv_kernel = cv_kernel[:,:,0]\n",
        "\n",
        "  #Нормируем\n",
        "  image = image / 255\n",
        "  cv_kernel = cv_kernel / 255\n",
        "  \n",
        "  #Добавляем нулевые пиксели по краям\n",
        "  #Сначала создаю массив, который больше изображения, а затем вставляю изображение по центру\n",
        "  complemented_image = np.zeros((540, 540, 3))\n",
        "  for rgb in range(3):\n",
        "    for i in range(len(image)):\n",
        "      for j in range(len(image[i])):\n",
        "        complemented_image[9+i,9+j, rgb] = image[i,j,rgb]\n",
        "\n",
        "  #Свертка\n",
        "  result = np.zeros((512, 512, 3))\n",
        "  for rgb in range(3):\n",
        "    for i in range(len(image)):\n",
        "      for j in range(len(image[i])):\n",
        "        matrix = complemented_image[0+i:19+i,0+j:19+j,rgb]\n",
        "        result[i,j,rgb] = ((matrix*cv_kernel).sum())/(cv_kernel.sum())\n",
        "\n",
        "  #Денормировка\n",
        "  result *= 255\n",
        "  \n",
        "  #Приводим к инт16(пробовал к инт8, изображение портится)\n",
        "  result = np.int16(result)\n",
        "\n",
        "  #Сохраняем изображение\n",
        "  cv2.imwrite(f'bokeh_image_{number}.png', result)"
      ],
      "execution_count": null,
      "outputs": []
    }
  ]
}