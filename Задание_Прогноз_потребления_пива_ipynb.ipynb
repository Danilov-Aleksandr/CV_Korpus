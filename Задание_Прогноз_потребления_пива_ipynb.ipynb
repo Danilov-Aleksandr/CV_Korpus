{
  "nbformat": 4,
  "nbformat_minor": 0,
  "metadata": {
    "colab": {
      "name": "Задание: Прогноз потребления пива.ipynb\"",
      "provenance": [],
      "collapsed_sections": [],
      "include_colab_link": true
    },
    "kernelspec": {
      "name": "python3",
      "display_name": "Python 3"
    }
  },
  "cells": [
    {
      "cell_type": "markdown",
      "metadata": {
        "id": "view-in-github",
        "colab_type": "text"
      },
      "source": [
        "<a href=\"https://colab.research.google.com/github/Danilov-Aleksandr/CV_Korpus/blob/master/%D0%97%D0%B0%D0%B4%D0%B0%D0%BD%D0%B8%D0%B5_%D0%9F%D1%80%D0%BE%D0%B3%D0%BD%D0%BE%D0%B7_%D0%BF%D0%BE%D1%82%D1%80%D0%B5%D0%B1%D0%BB%D0%B5%D0%BD%D0%B8%D1%8F_%D0%BF%D0%B8%D0%B2%D0%B0_ipynb.ipynb\" target=\"_parent\"><img src=\"https://colab.research.google.com/assets/colab-badge.svg\" alt=\"Open In Colab\"/></a>"
      ]
    },
    {
      "cell_type": "markdown",
      "metadata": {
        "id": "NJ8o9s-OqIlY",
        "colab_type": "text"
      },
      "source": [
        "# Прогноз потребления пива в одном из баров Сан-Паулу\n",
        "\n",
        "Будем решать задачу регрессии с помощью линейного алгоритма. \n",
        "\n",
        "Данные в табличном формате - https://drive.google.com/file/d/1LTFUd8kOlTDoPZOciOU2ZfZ3qsaIpy5C/view?usp=sharing\n",
        "\n",
        "\n",
        "**Описание полей**\n",
        " * date - дата замера\n",
        " * t_med - средняя температора воздуха\n",
        " * t_min - минимальная\n",
        " * t_max - максимальная\n",
        " * rainfall - количество осадков, мм\n",
        " * weekend - флаг выходного дня (0 - будни, 1 - выходной)\n",
        " * consumption - продано пива в баре, литров"
      ]
    },
    {
      "cell_type": "code",
      "metadata": {
        "id": "VS6-oF33sfp7",
        "colab_type": "code",
        "colab": {
          "base_uri": "https://localhost:8080/",
          "height": 141
        },
        "outputId": "74e5e86b-0084-4b3f-fa91-5aba3236b470"
      },
      "source": [
        "# Подключим гугл диск и скопируем к себе данные\n",
        "\n",
        "from google.colab import drive\n",
        "drive.mount('/content/gdrive')\n",
        "\n",
        "!cp \"/content/gdrive/My Drive/korpus/data.csv\" /content && ls # скопировать фаил и показать все файлы в рабочей директории"
      ],
      "execution_count": 1,
      "outputs": [
        {
          "output_type": "stream",
          "text": [
            "Go to this URL in a browser: https://accounts.google.com/o/oauth2/auth?client_id=947318989803-6bn6qk8qdgf4n4g3pfee6491hc0brc4i.apps.googleusercontent.com&redirect_uri=urn%3aietf%3awg%3aoauth%3a2.0%3aoob&response_type=code&scope=email%20https%3a%2f%2fwww.googleapis.com%2fauth%2fdocs.test%20https%3a%2f%2fwww.googleapis.com%2fauth%2fdrive%20https%3a%2f%2fwww.googleapis.com%2fauth%2fdrive.photos.readonly%20https%3a%2f%2fwww.googleapis.com%2fauth%2fpeopleapi.readonly\n",
            "\n",
            "Enter your authorization code:\n",
            "··········\n",
            "Mounted at /content/gdrive\n",
            "data.csv  gdrive  sample_data\n"
          ],
          "name": "stdout"
        }
      ]
    },
    {
      "cell_type": "code",
      "metadata": {
        "id": "UcxyPOuCufHE",
        "colab_type": "code",
        "colab": {
          "base_uri": "https://localhost:8080/",
          "height": 445
        },
        "outputId": "81d723c5-f1de-4679-f64e-91139aa09e1f"
      },
      "source": [
        "# Импортируем данные и посмотрим на их структуру\n",
        "import pandas as pd\n",
        "\n",
        "data = pd.read_csv('data.csv')\n",
        "data.info() \n",
        "data.head()"
      ],
      "execution_count": 2,
      "outputs": [
        {
          "output_type": "stream",
          "text": [
            "<class 'pandas.core.frame.DataFrame'>\n",
            "RangeIndex: 365 entries, 0 to 364\n",
            "Data columns (total 7 columns):\n",
            " #   Column       Non-Null Count  Dtype  \n",
            "---  ------       --------------  -----  \n",
            " 0   date         365 non-null    object \n",
            " 1   t_med        365 non-null    float64\n",
            " 2   t_min        365 non-null    float64\n",
            " 3   t_max        365 non-null    float64\n",
            " 4   rainfall     365 non-null    float64\n",
            " 5   weekend      365 non-null    int64  \n",
            " 6   consumption  365 non-null    float64\n",
            "dtypes: float64(5), int64(1), object(1)\n",
            "memory usage: 20.1+ KB\n"
          ],
          "name": "stdout"
        },
        {
          "output_type": "execute_result",
          "data": {
            "text/html": [
              "<div>\n",
              "<style scoped>\n",
              "    .dataframe tbody tr th:only-of-type {\n",
              "        vertical-align: middle;\n",
              "    }\n",
              "\n",
              "    .dataframe tbody tr th {\n",
              "        vertical-align: top;\n",
              "    }\n",
              "\n",
              "    .dataframe thead th {\n",
              "        text-align: right;\n",
              "    }\n",
              "</style>\n",
              "<table border=\"1\" class=\"dataframe\">\n",
              "  <thead>\n",
              "    <tr style=\"text-align: right;\">\n",
              "      <th></th>\n",
              "      <th>date</th>\n",
              "      <th>t_med</th>\n",
              "      <th>t_min</th>\n",
              "      <th>t_max</th>\n",
              "      <th>rainfall</th>\n",
              "      <th>weekend</th>\n",
              "      <th>consumption</th>\n",
              "    </tr>\n",
              "  </thead>\n",
              "  <tbody>\n",
              "    <tr>\n",
              "      <th>0</th>\n",
              "      <td>2015-01-01</td>\n",
              "      <td>27.30</td>\n",
              "      <td>23.9</td>\n",
              "      <td>32.5</td>\n",
              "      <td>0.0</td>\n",
              "      <td>0</td>\n",
              "      <td>25.461</td>\n",
              "    </tr>\n",
              "    <tr>\n",
              "      <th>1</th>\n",
              "      <td>2015-01-02</td>\n",
              "      <td>27.02</td>\n",
              "      <td>24.5</td>\n",
              "      <td>33.5</td>\n",
              "      <td>0.0</td>\n",
              "      <td>0</td>\n",
              "      <td>28.972</td>\n",
              "    </tr>\n",
              "    <tr>\n",
              "      <th>2</th>\n",
              "      <td>2015-01-03</td>\n",
              "      <td>24.82</td>\n",
              "      <td>22.4</td>\n",
              "      <td>29.9</td>\n",
              "      <td>0.0</td>\n",
              "      <td>1</td>\n",
              "      <td>30.814</td>\n",
              "    </tr>\n",
              "    <tr>\n",
              "      <th>3</th>\n",
              "      <td>2015-01-04</td>\n",
              "      <td>23.98</td>\n",
              "      <td>21.5</td>\n",
              "      <td>28.6</td>\n",
              "      <td>1.2</td>\n",
              "      <td>1</td>\n",
              "      <td>29.799</td>\n",
              "    </tr>\n",
              "    <tr>\n",
              "      <th>4</th>\n",
              "      <td>2015-01-05</td>\n",
              "      <td>23.82</td>\n",
              "      <td>21.0</td>\n",
              "      <td>28.3</td>\n",
              "      <td>0.0</td>\n",
              "      <td>0</td>\n",
              "      <td>28.900</td>\n",
              "    </tr>\n",
              "  </tbody>\n",
              "</table>\n",
              "</div>"
            ],
            "text/plain": [
              "         date  t_med  t_min  t_max  rainfall  weekend  consumption\n",
              "0  2015-01-01  27.30   23.9   32.5       0.0        0       25.461\n",
              "1  2015-01-02  27.02   24.5   33.5       0.0        0       28.972\n",
              "2  2015-01-03  24.82   22.4   29.9       0.0        1       30.814\n",
              "3  2015-01-04  23.98   21.5   28.6       1.2        1       29.799\n",
              "4  2015-01-05  23.82   21.0   28.3       0.0        0       28.900"
            ]
          },
          "metadata": {
            "tags": []
          },
          "execution_count": 2
        }
      ]
    },
    {
      "cell_type": "code",
      "metadata": {
        "id": "nZorZQNBvKsH",
        "colab_type": "code",
        "colab": {
          "base_uri": "https://localhost:8080/",
          "height": 294
        },
        "outputId": "74d82486-e601-4b68-8599-3ea05d9b90cb"
      },
      "source": [
        "# чуть подробнее о данных\n",
        "data.describe()"
      ],
      "execution_count": 3,
      "outputs": [
        {
          "output_type": "execute_result",
          "data": {
            "text/html": [
              "<div>\n",
              "<style scoped>\n",
              "    .dataframe tbody tr th:only-of-type {\n",
              "        vertical-align: middle;\n",
              "    }\n",
              "\n",
              "    .dataframe tbody tr th {\n",
              "        vertical-align: top;\n",
              "    }\n",
              "\n",
              "    .dataframe thead th {\n",
              "        text-align: right;\n",
              "    }\n",
              "</style>\n",
              "<table border=\"1\" class=\"dataframe\">\n",
              "  <thead>\n",
              "    <tr style=\"text-align: right;\">\n",
              "      <th></th>\n",
              "      <th>t_med</th>\n",
              "      <th>t_min</th>\n",
              "      <th>t_max</th>\n",
              "      <th>rainfall</th>\n",
              "      <th>weekend</th>\n",
              "      <th>consumption</th>\n",
              "    </tr>\n",
              "  </thead>\n",
              "  <tbody>\n",
              "    <tr>\n",
              "      <th>count</th>\n",
              "      <td>365.000000</td>\n",
              "      <td>365.000000</td>\n",
              "      <td>365.000000</td>\n",
              "      <td>365.000000</td>\n",
              "      <td>365.000000</td>\n",
              "      <td>365.000000</td>\n",
              "    </tr>\n",
              "    <tr>\n",
              "      <th>mean</th>\n",
              "      <td>21.226356</td>\n",
              "      <td>17.461370</td>\n",
              "      <td>26.611507</td>\n",
              "      <td>5.196712</td>\n",
              "      <td>0.284932</td>\n",
              "      <td>25.401367</td>\n",
              "    </tr>\n",
              "    <tr>\n",
              "      <th>std</th>\n",
              "      <td>3.180108</td>\n",
              "      <td>2.826185</td>\n",
              "      <td>4.317366</td>\n",
              "      <td>12.417844</td>\n",
              "      <td>0.452001</td>\n",
              "      <td>4.399143</td>\n",
              "    </tr>\n",
              "    <tr>\n",
              "      <th>min</th>\n",
              "      <td>12.900000</td>\n",
              "      <td>10.600000</td>\n",
              "      <td>14.500000</td>\n",
              "      <td>0.000000</td>\n",
              "      <td>0.000000</td>\n",
              "      <td>14.343000</td>\n",
              "    </tr>\n",
              "    <tr>\n",
              "      <th>25%</th>\n",
              "      <td>19.020000</td>\n",
              "      <td>15.300000</td>\n",
              "      <td>23.800000</td>\n",
              "      <td>0.000000</td>\n",
              "      <td>0.000000</td>\n",
              "      <td>22.008000</td>\n",
              "    </tr>\n",
              "    <tr>\n",
              "      <th>50%</th>\n",
              "      <td>21.380000</td>\n",
              "      <td>17.900000</td>\n",
              "      <td>26.900000</td>\n",
              "      <td>0.000000</td>\n",
              "      <td>0.000000</td>\n",
              "      <td>24.867000</td>\n",
              "    </tr>\n",
              "    <tr>\n",
              "      <th>75%</th>\n",
              "      <td>23.280000</td>\n",
              "      <td>19.600000</td>\n",
              "      <td>29.400000</td>\n",
              "      <td>3.200000</td>\n",
              "      <td>1.000000</td>\n",
              "      <td>28.631000</td>\n",
              "    </tr>\n",
              "    <tr>\n",
              "      <th>max</th>\n",
              "      <td>28.860000</td>\n",
              "      <td>24.500000</td>\n",
              "      <td>36.500000</td>\n",
              "      <td>94.800000</td>\n",
              "      <td>1.000000</td>\n",
              "      <td>37.937000</td>\n",
              "    </tr>\n",
              "  </tbody>\n",
              "</table>\n",
              "</div>"
            ],
            "text/plain": [
              "            t_med       t_min       t_max    rainfall     weekend  consumption\n",
              "count  365.000000  365.000000  365.000000  365.000000  365.000000   365.000000\n",
              "mean    21.226356   17.461370   26.611507    5.196712    0.284932    25.401367\n",
              "std      3.180108    2.826185    4.317366   12.417844    0.452001     4.399143\n",
              "min     12.900000   10.600000   14.500000    0.000000    0.000000    14.343000\n",
              "25%     19.020000   15.300000   23.800000    0.000000    0.000000    22.008000\n",
              "50%     21.380000   17.900000   26.900000    0.000000    0.000000    24.867000\n",
              "75%     23.280000   19.600000   29.400000    3.200000    1.000000    28.631000\n",
              "max     28.860000   24.500000   36.500000   94.800000    1.000000    37.937000"
            ]
          },
          "metadata": {
            "tags": []
          },
          "execution_count": 3
        }
      ]
    },
    {
      "cell_type": "markdown",
      "metadata": {
        "id": "7ZV8sdk90hdD",
        "colab_type": "text"
      },
      "source": [
        "# 1. Регрессия на одном признаке"
      ]
    },
    {
      "cell_type": "code",
      "metadata": {
        "id": "tMzhOuT8zkmI",
        "colab_type": "code",
        "colab": {
          "base_uri": "https://localhost:8080/",
          "height": 35
        },
        "outputId": "25ccd254-1262-493e-d8c7-91daaac52893"
      },
      "source": [
        "# подключим необходимые модули\n",
        "from sklearn.linear_model import LinearRegression\n",
        "from sklearn.model_selection import train_test_split\n",
        "from sklearn.metrics import mean_squared_error, mean_absolute_error\n",
        "\n",
        "# подготовим под-выборки\n",
        "X_cols = ['t_med']\n",
        "X = data[X_cols]\n",
        "y = data['consumption']\n",
        "X_train, X_test, y_train, y_test = train_test_split(X, y, random_state=42)\n",
        "\n",
        "# по аналогии с примером из домашки, обучите линейную модель на одном признаке\n",
        "lr = LinearRegression()\n",
        "lr.fit(X_train, y_train)\n",
        "y_pred = lr.predict(X_test)\n",
        "# выведите среднюю абсолютную ошибку\n",
        "\n",
        "mean_absolute_error(y_pred, y_test)"
      ],
      "execution_count": 5,
      "outputs": [
        {
          "output_type": "execute_result",
          "data": {
            "text/plain": [
              "3.106222473572042"
            ]
          },
          "metadata": {
            "tags": []
          },
          "execution_count": 5
        }
      ]
    },
    {
      "cell_type": "markdown",
      "metadata": {
        "id": "GOe6lfRn0o8O",
        "colab_type": "text"
      },
      "source": [
        "# 2. Регрессия на нескольких признаках"
      ]
    },
    {
      "cell_type": "code",
      "metadata": {
        "id": "4lj0_kZvTeFW",
        "colab_type": "code",
        "colab": {}
      },
      "source": [
        "# подготовим под-выборки\n"
      ],
      "execution_count": 7,
      "outputs": []
    },
    {
      "cell_type": "code",
      "metadata": {
        "id": "ie70YOZb0pa1",
        "colab_type": "code",
        "colab": {
          "base_uri": "https://localhost:8080/",
          "height": 35
        },
        "outputId": "640ff5b0-6ede-4ccd-b233-dc32d3c709a9"
      },
      "source": [
        "# обучите модель на нескольких признаках, найдите оптимальное сочетание данных\n",
        "X_cols = ['t_med', 'weekend']\n",
        "X = data[X_cols]\n",
        "y = data['consumption']\n",
        "X_train, X_test, y_train, y_test = train_test_split(X, y, random_state=42)\n",
        "\n",
        "lr = LinearRegression()\n",
        "lr.fit(X_train, y_train)\n",
        "y_pred = lr.predict(X_test)\n",
        "\n",
        "\n",
        "# сравниваем модели се так же по средней обсолютной ошибке\n",
        "\n",
        "\n",
        "mean_absolute_error(y_pred, y_test)\n"
      ],
      "execution_count": 9,
      "outputs": [
        {
          "output_type": "execute_result",
          "data": {
            "text/plain": [
              "2.3863363993884383"
            ]
          },
          "metadata": {
            "tags": []
          },
          "execution_count": 9
        }
      ]
    },
    {
      "cell_type": "code",
      "metadata": {
        "id": "RiFMCZFDVJQr",
        "colab_type": "code",
        "colab": {
          "base_uri": "https://localhost:8080/",
          "height": 35
        },
        "outputId": "43de5a4c-7283-4790-e9cb-306735066b41"
      },
      "source": [
        "# обучите модель на нескольких признаках, найдите оптимальное сочетание данных\n",
        "X_cols = ['t_med', 'weekend', 'rainfall']\n",
        "X = data[X_cols]\n",
        "y = data['consumption']\n",
        "X_train, X_test, y_train, y_test = train_test_split(X, y, random_state=42)\n",
        "\n",
        "lr = LinearRegression()\n",
        "lr.fit(X_train, y_train)\n",
        "y_pred = lr.predict(X_test)\n",
        "\n",
        "\n",
        "# сравниваем модели се так же по средней обсолютной ошибке\n",
        "\n",
        "\n",
        "mean_absolute_error(y_pred, y_test)"
      ],
      "execution_count": 12,
      "outputs": [
        {
          "output_type": "execute_result",
          "data": {
            "text/plain": [
              "2.2540803971929866"
            ]
          },
          "metadata": {
            "tags": []
          },
          "execution_count": 12
        }
      ]
    },
    {
      "cell_type": "code",
      "metadata": {
        "id": "Jk2mfQQPVPUV",
        "colab_type": "code",
        "colab": {
          "base_uri": "https://localhost:8080/",
          "height": 35
        },
        "outputId": "cb1136e5-a8a9-4db3-b7a5-918050051950"
      },
      "source": [
        "# обучите модель на нескольких признаках, найдите оптимальное сочетание данных\n",
        "X_cols = ['t_med', 'weekend', 'rainfall', 't_max']\n",
        "X = data[X_cols]\n",
        "y = data['consumption']\n",
        "X_train, X_test, y_train, y_test = train_test_split(X, y, random_state=42)\n",
        "\n",
        "lr = LinearRegression()\n",
        "lr.fit(X_train, y_train)\n",
        "y_pred = lr.predict(X_test)\n",
        "\n",
        "\n",
        "# сравниваем модели се так же по средней обсолютной ошибке\n",
        "\n",
        "\n",
        "mean_absolute_error(y_pred, y_test)"
      ],
      "execution_count": 14,
      "outputs": [
        {
          "output_type": "execute_result",
          "data": {
            "text/plain": [
              "2.035032457502069"
            ]
          },
          "metadata": {
            "tags": []
          },
          "execution_count": 14
        }
      ]
    },
    {
      "cell_type": "code",
      "metadata": {
        "id": "hGzw5RhpW5r0",
        "colab_type": "code",
        "colab": {
          "base_uri": "https://localhost:8080/",
          "height": 35
        },
        "outputId": "10f9b9e0-1149-4d94-d4b6-f8ba5cfa2211"
      },
      "source": [
        "from sklearn import tree\n",
        "# обучите модель на нескольких признаках, найдите оптимальное сочетание данных\n",
        "X_cols = ['t_med', 'weekend', 'rainfall', 't_max']\n",
        "X = data[X_cols]\n",
        "y = data['consumption']\n",
        "X_train, X_test, y_train, y_test = train_test_split(X, y, random_state=42)\n",
        "\n",
        "clf = tree.DecisionTreeRegressor()\n",
        "clf.fit(X_train, y_train)\n",
        "y_pred = clf.predict(X_test)\n",
        "\n",
        "\n",
        "# сравниваем модели се так же по средней обсолютной ошибке\n",
        "\n",
        "\n",
        "mean_absolute_error(y_pred, y_test)"
      ],
      "execution_count": 16,
      "outputs": [
        {
          "output_type": "execute_result",
          "data": {
            "text/plain": [
              "2.8404673913043474"
            ]
          },
          "metadata": {
            "tags": []
          },
          "execution_count": 16
        }
      ]
    },
    {
      "cell_type": "code",
      "metadata": {
        "id": "-A0cpuYzXNxM",
        "colab_type": "code",
        "colab": {
          "base_uri": "https://localhost:8080/",
          "height": 35
        },
        "outputId": "160498a2-7484-4f23-8dd0-ddbf0a02d486"
      },
      "source": [
        "from sklearn import linear_model\n",
        "reg = linear_model.Ridge(alpha=.5)\n",
        "# обучите модель на нескольких признаках, найдите оптимальное сочетание данных\n",
        "X_cols = ['t_med', 'weekend', 'rainfall', 't_max']\n",
        "X = data[X_cols]\n",
        "y = data['consumption']\n",
        "X_train, X_test, y_train, y_test = train_test_split(X, y, random_state=42)\n",
        "\n",
        "reg.fit(X_train, y_train)\n",
        "y_pred = reg.predict(X_test)\n",
        "\n",
        "\n",
        "# сравниваем модели се так же по средней обсолютной ошибке\n",
        "\n",
        "\n",
        "mean_absolute_error(y_pred, y_test)"
      ],
      "execution_count": 17,
      "outputs": [
        {
          "output_type": "execute_result",
          "data": {
            "text/plain": [
              "2.036911534300824"
            ]
          },
          "metadata": {
            "tags": []
          },
          "execution_count": 17
        }
      ]
    },
    {
      "cell_type": "code",
      "metadata": {
        "id": "STZNzvoNXUM9",
        "colab_type": "code",
        "colab": {
          "base_uri": "https://localhost:8080/",
          "height": 35
        },
        "outputId": "2d4b74b2-08a4-416e-d178-ee6e05496e44"
      },
      "source": [
        "reg = linear_model.BayesianRidge()\n",
        "# обучите модель на нескольких признаках, найдите оптимальное сочетание данных\n",
        "X_cols = ['t_med', 'weekend', 'rainfall', 't_max']\n",
        "X = data[X_cols]\n",
        "y = data['consumption']\n",
        "X_train, X_test, y_train, y_test = train_test_split(X, y, random_state=42)\n",
        "\n",
        "reg.fit(X_train, y_train)\n",
        "y_pred = reg.predict(X_test)\n",
        "\n",
        "\n",
        "# сравниваем модели се так же по средней обсолютной ошибке\n",
        "\n",
        "\n",
        "mean_absolute_error(y_pred, y_test)"
      ],
      "execution_count": 18,
      "outputs": [
        {
          "output_type": "execute_result",
          "data": {
            "text/plain": [
              "2.03731900132882"
            ]
          },
          "metadata": {
            "tags": []
          },
          "execution_count": 18
        }
      ]
    },
    {
      "cell_type": "code",
      "metadata": {
        "id": "pIiwmfYbXFhx",
        "colab_type": "code",
        "colab": {
          "base_uri": "https://localhost:8080/",
          "height": 35
        },
        "outputId": "b8eb2a2e-2461-400f-a97e-810e4ab3c7bd"
      },
      "source": [
        "from sklearn.ensemble import RandomForestRegressor\n",
        "reg = RandomForestRegressor(random_state=1, n_estimators=10)\n",
        "# обучите модель на нескольких признаках, найдите оптимальное сочетание данных\n",
        "X_cols = ['t_med', 'weekend', 'rainfall', 't_max']\n",
        "X = data[X_cols]\n",
        "y = data['consumption']\n",
        "X_train, X_test, y_train, y_test = train_test_split(X, y, random_state=42)\n",
        "\n",
        "reg.fit(X_train, y_train)\n",
        "y_pred = reg.predict(X_test)\n",
        "\n",
        "\n",
        "# сравниваем модели се так же по средней обсолютной ошибке\n",
        "\n",
        "\n",
        "mean_absolute_error(y_pred, y_test)"
      ],
      "execution_count": 21,
      "outputs": [
        {
          "output_type": "execute_result",
          "data": {
            "text/plain": [
              "2.432048913043478"
            ]
          },
          "metadata": {
            "tags": []
          },
          "execution_count": 21
        }
      ]
    },
    {
      "cell_type": "code",
      "metadata": {
        "id": "dfrIhEkRU8qf",
        "colab_type": "code",
        "colab": {}
      },
      "source": [
        ""
      ],
      "execution_count": 13,
      "outputs": []
    },
    {
      "cell_type": "code",
      "metadata": {
        "id": "zKGauBJP08WO",
        "colab_type": "code",
        "colab": {
          "base_uri": "https://localhost:8080/",
          "height": 52
        },
        "outputId": "7aaa12bf-2d89-49b9-8073-a906a3a59e93"
      },
      "source": [
        "# Посмотрим на значимость коэффициентов\n",
        "print(X_cols)\n",
        "print(lr.coef_)"
      ],
      "execution_count": 11,
      "outputs": [
        {
          "output_type": "stream",
          "text": [
            "['t_med', 'weekend']\n",
            "[0.81603803 5.26842184]\n"
          ],
          "name": "stdout"
        }
      ]
    },
    {
      "cell_type": "code",
      "metadata": {
        "id": "dvDqQ5uQ3nqe",
        "colab_type": "code",
        "colab": {}
      },
      "source": [
        ""
      ],
      "execution_count": null,
      "outputs": []
    },
    {
      "cell_type": "code",
      "metadata": {
        "id": "wW0SsFIL3ngf",
        "colab_type": "code",
        "colab": {}
      },
      "source": [
        ""
      ],
      "execution_count": null,
      "outputs": []
    }
  ]
}