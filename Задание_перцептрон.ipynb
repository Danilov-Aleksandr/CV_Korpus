{
  "nbformat": 4,
  "nbformat_minor": 0,
  "metadata": {
    "colab": {
      "name": "Задание перцептрон",
      "provenance": [],
      "collapsed_sections": [],
      "include_colab_link": true
    },
    "kernelspec": {
      "name": "python3",
      "display_name": "Python 3"
    }
  },
  "cells": [
    {
      "cell_type": "markdown",
      "metadata": {
        "id": "view-in-github",
        "colab_type": "text"
      },
      "source": [
        "<a href=\"https://colab.research.google.com/github/Danilov-Aleksandr/CV_Korpus/blob/master/%D0%97%D0%B0%D0%B4%D0%B0%D0%BD%D0%B8%D0%B5_%D0%BF%D0%B5%D1%80%D1%86%D0%B5%D0%BF%D1%82%D1%80%D0%BE%D0%BD.ipynb\" target=\"_parent\"><img src=\"https://colab.research.google.com/assets/colab-badge.svg\" alt=\"Open In Colab\"/></a>"
      ]
    },
    {
      "cell_type": "markdown",
      "metadata": {
        "id": "AB56NLpDt7hY",
        "colab_type": "text"
      },
      "source": [
        "Сначала немного простых задач, для разминки"
      ]
    },
    {
      "cell_type": "code",
      "metadata": {
        "id": "fJDY323IL8d5",
        "colab_type": "code",
        "colab": {}
      },
      "source": [
        "#Импортируем Numpy\n",
        "import numpy as np"
      ],
      "execution_count": 42,
      "outputs": []
    },
    {
      "cell_type": "code",
      "metadata": {
        "id": "TxDgvmHfwWYa",
        "colab_type": "code",
        "colab": {
          "base_uri": "https://localhost:8080/",
          "height": 35
        },
        "outputId": "4cac0021-1f97-4f71-8a30-c54a7303a834"
      },
      "source": [
        "# найти индекс максимального значения в одномерном массиве:\n",
        "a = np.array([0.2, 0.4, -0.1, 0.5, 0.33, 0.9, 0.875, 0.14])\n",
        "a.argmax()"
      ],
      "execution_count": null,
      "outputs": [
        {
          "output_type": "execute_result",
          "data": {
            "text/plain": [
              "5"
            ]
          },
          "metadata": {
            "tags": []
          },
          "execution_count": 2
        }
      ]
    },
    {
      "cell_type": "markdown",
      "metadata": {
        "id": "5zwjAQkMyOfQ",
        "colab_type": "text"
      },
      "source": [
        "Формула Z - масштабирования. Где где X - среднее значение, S - стандартное отклонение вычисленные для множества данных x\n",
        "![Замещающий текст](https://wikimedia.org/api/rest_v1/media/math/render/svg/3fae59e6af64fb5c102229fcf9034175bec85372)"
      ]
    },
    {
      "cell_type": "code",
      "metadata": {
        "id": "2CN7MFmN9gKS",
        "colab_type": "code",
        "colab": {}
      },
      "source": [
        "#создать 5х5 массив из рандомных значений и сделать Z-масштабирование\n",
        "x = np.random.random((5,5))\n",
        "#"
      ],
      "execution_count": null,
      "outputs": []
    },
    {
      "cell_type": "code",
      "metadata": {
        "id": "I59qVOgb9gNA",
        "colab_type": "code",
        "colab": {
          "base_uri": "https://localhost:8080/",
          "height": 87
        },
        "outputId": "86d19bad-1489-4256-b444-9e682616316d"
      },
      "source": [
        "#сделать все значения меньше 0 равными 0, а больше 10 равными 10\n",
        "a = np.random.randint(-2, 12, (4,5))\n",
        "np.clip(a, 0, 10)"
      ],
      "execution_count": null,
      "outputs": [
        {
          "output_type": "execute_result",
          "data": {
            "text/plain": [
              "array([[ 2,  0, 10,  6, 10],\n",
              "       [ 4,  3,  0,  5,  2],\n",
              "       [10,  2, 10,  0,  2],\n",
              "       [ 7,  6,  6,  9,  3]])"
            ]
          },
          "metadata": {
            "tags": []
          },
          "execution_count": 5
        }
      ]
    },
    {
      "cell_type": "code",
      "metadata": {
        "id": "K_doOv_p9gSb",
        "colab_type": "code",
        "colab": {
          "base_uri": "https://localhost:8080/",
          "height": 35
        },
        "outputId": "6acb796b-b406-4169-b702-7ad97bc4c7fd"
      },
      "source": [
        "#представим что у вас есть ч/б картинка размером 28x28, нужно добавить количество каналов = 1\n",
        "image = np.random.random(784).reshape(28,28)\n",
        "image_with_channel = np.expand_dims(image, axis=0)\n",
        "image_with_channel.shape\n"
      ],
      "execution_count": null,
      "outputs": [
        {
          "output_type": "execute_result",
          "data": {
            "text/plain": [
              "(1, 28, 28)"
            ]
          },
          "metadata": {
            "tags": []
          },
          "execution_count": 6
        }
      ]
    },
    {
      "cell_type": "code",
      "metadata": {
        "id": "UvuLlHt49gU8",
        "colab_type": "code",
        "colab": {
          "base_uri": "https://localhost:8080/",
          "height": 35
        },
        "outputId": "d0819b72-b71a-4e62-b77c-c75a30033b43"
      },
      "source": [
        "#как одной функцией удалить сразу все единичные размерности\n",
        "a = np.random.random(784).reshape(1,1,28,1,1,28)\n",
        "a = a.reshape(28, 28)\n",
        "a.shape\n",
        "#"
      ],
      "execution_count": null,
      "outputs": [
        {
          "output_type": "execute_result",
          "data": {
            "text/plain": [
              "(28, 28)"
            ]
          },
          "metadata": {
            "tags": []
          },
          "execution_count": 7
        }
      ]
    },
    {
      "cell_type": "code",
      "metadata": {
        "id": "VOWVBeOR9gQo",
        "colab_type": "code",
        "colab": {
          "base_uri": "https://localhost:8080/",
          "height": 35
        },
        "outputId": "633f6247-7437-4598-ae96-b0ca2157b4cc"
      },
      "source": [
        "#создайте нулевой массив по форме другого:\n",
        "a = np.arange(10).reshape(5,2)\n",
        "labels = np.zeros_like(a)\n",
        "labels.shape"
      ],
      "execution_count": null,
      "outputs": [
        {
          "output_type": "execute_result",
          "data": {
            "text/plain": [
              "(5, 2)"
            ]
          },
          "metadata": {
            "tags": []
          },
          "execution_count": 9
        }
      ]
    },
    {
      "cell_type": "markdown",
      "metadata": {
        "id": "YzT-hSkwMJO1",
        "colab_type": "text"
      },
      "source": [
        "Теперь давайте создадим с вами небольшую нейронную сеть с помощью Numpy и обучим ее. Это тот самый перцептрон, с которым мы подробнее познакомимся на следующем занятии.\n",
        "\n",
        "![Замещающий текст](https://neerc.ifmo.ru/wiki/images/a/a5/%D0%98%D1%81%D0%BA%D1%83%D1%81%D1%81%D1%82%D0%B2%D0%B5%D0%BD%D0%BD%D1%8B%D0%B9_%D0%BD%D0%B5%D0%B9%D1%80%D0%BE%D0%BD_%D1%81%D1%85%D0%B5%D0%BC%D0%B0.png)"
      ]
    },
    {
      "cell_type": "markdown",
      "metadata": {
        "id": "d8vAeZkEREmF",
        "colab_type": "text"
      },
      "source": [
        "Воспользуемся фукнцией активации сигмоид.\n",
        "\n",
        "![Замещающий текст](https://habrastorage.org/files/150/8ef/062/1508ef06235444c3bc74a942812b4eb7.png)"
      ]
    },
    {
      "cell_type": "code",
      "metadata": {
        "id": "MjWjMKzQQrvT",
        "colab_type": "code",
        "colab": {}
      },
      "source": [
        "#Напишем фукнцию активации. Возьмем сигмоиду.\n",
        "def sigmoid(x):\n",
        "    return 1/(1+np.exp(-x))\n",
        "\n"
      ],
      "execution_count": 55,
      "outputs": []
    },
    {
      "cell_type": "markdown",
      "metadata": {
        "id": "yg2UEg83ZffQ",
        "colab_type": "text"
      },
      "source": [
        "Так будут выглядеть данные нашей игрушечной сети:\n",
        "\n",
        "![Замещающий текст](https://sun9-33.userapi.com/c857324/v857324999/1f20d7/GVRf86Zc9Kw.jpg)"
      ]
    },
    {
      "cell_type": "markdown",
      "metadata": {
        "id": "9kuFmUE42uMe",
        "colab_type": "text"
      },
      "source": [
        "Видите закономерность? Попробуйте найти."
      ]
    },
    {
      "cell_type": "code",
      "metadata": {
        "id": "xb-dDlwrZWl_",
        "colab_type": "code",
        "colab": {
          "base_uri": "https://localhost:8080/",
          "height": 69
        },
        "outputId": "ae4640c7-15e6-414e-d304-07959ae33e4d"
      },
      "source": [
        "#создайте 2 numpy array: один для входов, другой для выходов\n",
        "\n",
        "# набор входных данных\n",
        "X = np.array([[0,0,1],\n",
        "              [1,1,1],\n",
        "              [1,0,1],\n",
        "              [0,1,1]])\n",
        "    \n",
        "# выходные данные        \n",
        "y = np.array([0,1,1,0]).reshape(4, 1)\n",
        "\n",
        "\n",
        "# Установим сид, для лучшей воспроизводимости экспериментов\n",
        "np.random.seed(42)\n",
        "\n",
        "# инициализируем веса случайным образом со средним 0 в диапозоне [-1, 1]. Shape (3,1)\n",
        "weights = np.random.random((3,1))\n",
        "\n",
        "\n",
        "print(weights)"
      ],
      "execution_count": 56,
      "outputs": [
        {
          "output_type": "stream",
          "text": [
            "[[0.37454012]\n",
            " [0.95071431]\n",
            " [0.73199394]]\n"
          ],
          "name": "stdout"
        }
      ]
    },
    {
      "cell_type": "code",
      "metadata": {
        "id": "fAfIKDjUhwQG",
        "colab_type": "code",
        "colab": {
          "base_uri": "https://localhost:8080/",
          "height": 87
        },
        "outputId": "51750b7a-2fc3-4626-dd0c-a11173248283"
      },
      "source": [
        "y"
      ],
      "execution_count": 57,
      "outputs": [
        {
          "output_type": "execute_result",
          "data": {
            "text/plain": [
              "array([[0],\n",
              "       [1],\n",
              "       [1],\n",
              "       [0]])"
            ]
          },
          "metadata": {
            "tags": []
          },
          "execution_count": 57
        }
      ]
    },
    {
      "cell_type": "code",
      "metadata": {
        "id": "5Nxn0dYPZbfY",
        "colab_type": "code",
        "colab": {
          "base_uri": "https://localhost:8080/",
          "height": 35
        },
        "outputId": "44e7872b-88ef-4fb7-a655-65c35391a3d4"
      },
      "source": [
        "X.shape"
      ],
      "execution_count": 58,
      "outputs": [
        {
          "output_type": "execute_result",
          "data": {
            "text/plain": [
              "(4, 3)"
            ]
          },
          "metadata": {
            "tags": []
          },
          "execution_count": 58
        }
      ]
    },
    {
      "cell_type": "markdown",
      "metadata": {
        "id": "x3ArN257b1vq",
        "colab_type": "text"
      },
      "source": [
        "Проверим, работает ли все без обучения?"
      ]
    },
    {
      "cell_type": "code",
      "metadata": {
        "id": "OhQAeKTJb0X4",
        "colab_type": "code",
        "colab": {
          "base_uri": "https://localhost:8080/",
          "height": 87
        },
        "outputId": "bd874541-1455-4068-a090-159db84eca66"
      },
      "source": [
        "inputs = X\n",
        "# прогнать наши выхода через перцептрон, сначала перемножить с весами, а потом все это в сигмоиду\n",
        "outputs = sigmoid(np.matmul(inputs, weights))\n",
        "print(outputs)"
      ],
      "execution_count": 59,
      "outputs": [
        {
          "output_type": "stream",
          "text": [
            "[[0.67524268]\n",
            " [0.88667798]\n",
            " [0.75148239]\n",
            " [0.84326281]]\n"
          ],
          "name": "stdout"
        }
      ]
    },
    {
      "cell_type": "markdown",
      "metadata": {
        "id": "erS_H8VmbbVD",
        "colab_type": "text"
      },
      "source": [
        "Обучим нейронку, применив метод обратного распространения ошибки"
      ]
    },
    {
      "cell_type": "code",
      "metadata": {
        "id": "4FDAZTOYbUxb",
        "colab_type": "code",
        "colab": {
          "base_uri": "https://localhost:8080/",
          "height": 104
        },
        "outputId": "ac9f6f8d-e98b-4c14-9b9f-ad206e64ea29"
      },
      "source": [
        "for iter in range(10000):\n",
        "    # прямое распространение (делаем тоже самое что в ячейке выше)\n",
        "    inputs = X\n",
        "    outputs = sigmoid(np.matmul(inputs, weights))\n",
        "    #print(outputs)\n",
        "    #print(np.matmul(inputs, weights))\n",
        "    # насколько мы ошиблись (из наших меток (y) нужно вычесть полученные выходы)\n",
        "    error = y - outputs\n",
        "    \n",
        "    #Магия градиентов (будет понятнее после следующего занятия, пока примите это как есть)\n",
        "    delta = error * (outputs * (1-outputs))\n",
        "    adjust = np.matmul(inputs.T, delta)\n",
        "\n",
        "    # обновим веса (нужно прибавить к весу значение adjust и это будет новым весом)\n",
        "    weights = weights + adjust\n",
        "\n",
        "#Проверим результаты\n",
        "#Должно получиться близко к 1 там, где 1, и близко к 0, где ноль.\n",
        "print(\"Выходные данные после тренировки: \")\n",
        "print(outputs)\n"
      ],
      "execution_count": 60,
      "outputs": [
        {
          "output_type": "stream",
          "text": [
            "Выходные данные после тренировки: \n",
            "[[0.00966731]\n",
            " [0.99211766]\n",
            " [0.99358907]\n",
            " [0.00786534]]\n"
          ],
          "name": "stdout"
        }
      ]
    },
    {
      "cell_type": "code",
      "metadata": {
        "id": "9QOfaoca2S_7",
        "colab_type": "code",
        "colab": {
          "base_uri": "https://localhost:8080/",
          "height": 131
        },
        "outputId": "3d54bb38-b371-4d07-8498-27b825a4e387"
      },
      "source": [
        "#Попробуем на данных которых сеть не видела\n",
        "\n",
        "new_inputs = np.array([1,1,0])\n",
        "#вы знаете что делать, снова прогнать через перцептрон с уже обученными весами.\n",
        "output = \n",
        "\n",
        "print(output)\n"
      ],
      "execution_count": 50,
      "outputs": [
        {
          "output_type": "error",
          "ename": "SyntaxError",
          "evalue": "ignored",
          "traceback": [
            "\u001b[0;36m  File \u001b[0;32m\"<ipython-input-50-8d1395dfbee1>\"\u001b[0;36m, line \u001b[0;32m5\u001b[0m\n\u001b[0;31m    output =\u001b[0m\n\u001b[0m             ^\u001b[0m\n\u001b[0;31mSyntaxError\u001b[0m\u001b[0;31m:\u001b[0m invalid syntax\n"
          ]
        }
      ]
    },
    {
      "cell_type": "code",
      "metadata": {
        "id": "UiW6wjpMZIve",
        "colab_type": "code",
        "colab": {}
      },
      "source": [
        ""
      ],
      "execution_count": null,
      "outputs": []
    }
  ]
}